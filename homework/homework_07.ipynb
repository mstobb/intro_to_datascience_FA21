{
 "cells": [
  {
   "cell_type": "markdown",
   "metadata": {},
   "source": [
    "# Introduction to Data Science\n",
    "## Homework 7\n",
    "\n",
    "Complete the assigned questions in this document directly.  You may discuss this homework with your peers, but each student should work on and submit their own assignment.  Under no circumstances should your responses or code be directly shared with another student.\n",
    "\n",
    "---\n",
    "\n",
    "This assignment is due ***Friday, November 19th***.\n",
    "\n",
    "---"
   ]
  },
  {
   "cell_type": "markdown",
   "metadata": {},
   "source": [
    "## Question 1"
   ]
  },
  {
   "cell_type": "markdown",
   "metadata": {},
   "source": [
    "Some of the recent readings for class discussed how data science is being put to use in health care.  Among the different applications was the ability to use machine learning to create automatic diagnoses from patient information, opening the possibility for doctor-less healthcare visist.  While easy access to health professionals sounds great, it may exacerbate other problems.  Read the following article by Cari Romm, then state your opinion on whether doctor-less heathcare visits would be still be worthwhile.\n",
    "\n",
    "> **Doctors Really, Really Want You to Stop Googling Your Symptoms**  \n",
    "*By Cari Romm*  \n",
    ">\n",
    "> Let’s see if any of this feels like a familiar process: Say you have a stomachache. You plug “stomachache” into Google and scroll through all of the information on gas and indigestion and other run-of-the-mill causes. And then you keep going, and find yourself reading about ulcers and gallstones and appendicitis, comparing your symptoms to what you see onscreen. Come to think of it, your stomach does feel tender to the touch, and maybe you are feeling a little dehydrated. Never mind that you had week-old leftovers for dinner — you don’t want to be messing around if this turns out to be cancer. And look, there’s a news article about a woman who thought her pregnancy was a months-long stomachache until she had the baby; suddenly, you’re doing frantic period math.  \n",
    ">\n",
    ">There’s a term for this: cyberchondria, first coined in a 2001 BBC article and later adopted by researchers studying how the internet fuels health anxieties. And there’s plenty of it going around — a 2013 Pew survey found that just over a third of U.S. adults have turned to the internet to help them figure out a health issue, while Google noted in a blog post earlier this summer than around one percent of its searches are on medical topics. But as psychologist Mary Aiken wrote in Quartz yesterday, all of that Googling has consequences beyond your own stressed-out psyche: On a broader level, it’s overburdening the health-care system, diverting doctors’ time and resources to investigating all of the minor bruises and colds that don’t actually need medical attention.  \n",
    ">\n",
    ">“For a number of reasons, most medical professionals aren’t too happy about the self-diagnosis trend,” she wrote. “It isn’t simply a matter of loss of control or an undermining of their authority through online medical searches — it can mess with the diagnostic process, because the results can suggest rare or morbid conditions to patients, which in turn can prompt the appearance of new ‘symptoms.’” And then you call your doctor’s office and make an appointment, just to be sure those symptoms don’t add up to any of the things you think they might. Better to run each possibility by the doctor, just to play it safe. “Patients arrive at offices and clinics with a ‘Google stack,’ as it’s sometimes called: a pile of print-outs from the online research they’ve done that has led them to form their own amateur medical opinion,” Aiken wrote.  \n",
    ">\n",
    ">And much of the time, those opinions are based on bad info — a study published last year in BMJ concluded that most online symptom checkers hit on the correct diagnosis less than half the time. Bottom line is, you’re probably fine. There’s that saying doctors have: When you hear hoofbeats, think horses, not zebras. On the internet, it’s zebras galore."
   ]
  },
  {
   "cell_type": "markdown",
   "metadata": {},
   "source": []
  },
  {
   "cell_type": "markdown",
   "metadata": {},
   "source": [
    "## Question 2"
   ]
  },
  {
   "cell_type": "markdown",
   "metadata": {},
   "source": [
    "This class has examined several applications of data science pulled from modern society, including:\n",
    "- Smart Assistants\n",
    "- Image classification\n",
    "- Self driving cars\n",
    "- Matchmaking\n",
    "- Sports analytics\n",
    "- Social media\n",
    "- Healthcare\n",
    "\n",
    "However, there are MANY other ways data science is being used that we did not discuss.  Describe one other application of data science, not discussed so far in class, and why it's interesting to you.  This can be pulled from your own personal background or by doing some light research online.  "
   ]
  },
  {
   "cell_type": "markdown",
   "metadata": {},
   "source": []
  },
  {
   "cell_type": "markdown",
   "metadata": {},
   "source": [
    "## Question 3"
   ]
  },
  {
   "cell_type": "markdown",
   "metadata": {
    "slideshow": {
     "slide_type": "slide"
    }
   },
   "source": [
    "This question will reuse the Texas home sales data from the last assignment (more information about the data can be found [here](https://vincentarelbundock.github.io/Rdatasets/doc/ggplot2/txhousing.html)).  Create a linear model to predict the median value of homes using the date.  Be sure to:  \n",
    "\n",
    "**a)** Create the model  \n",
    "**b)** Plot the data and model together  \n",
    "**c)** Describe and interpret the coefficients of the model in real units"
   ]
  },
  {
   "cell_type": "code",
   "execution_count": 12,
   "metadata": {},
   "outputs": [
    {
     "data": {
      "text/html": [
       "<div>\n",
       "<style scoped>\n",
       "    .dataframe tbody tr th:only-of-type {\n",
       "        vertical-align: middle;\n",
       "    }\n",
       "\n",
       "    .dataframe tbody tr th {\n",
       "        vertical-align: top;\n",
       "    }\n",
       "\n",
       "    .dataframe thead th {\n",
       "        text-align: right;\n",
       "    }\n",
       "</style>\n",
       "<table border=\"1\" class=\"dataframe\">\n",
       "  <thead>\n",
       "    <tr style=\"text-align: right;\">\n",
       "      <th></th>\n",
       "      <th>city</th>\n",
       "      <th>year</th>\n",
       "      <th>month</th>\n",
       "      <th>sales</th>\n",
       "      <th>volume</th>\n",
       "      <th>median</th>\n",
       "      <th>listings</th>\n",
       "      <th>inventory</th>\n",
       "      <th>date</th>\n",
       "    </tr>\n",
       "  </thead>\n",
       "  <tbody>\n",
       "    <tr>\n",
       "      <th>0</th>\n",
       "      <td>Abilene</td>\n",
       "      <td>2000</td>\n",
       "      <td>1</td>\n",
       "      <td>72.0</td>\n",
       "      <td>5380000.0</td>\n",
       "      <td>71400.0</td>\n",
       "      <td>701.0</td>\n",
       "      <td>6.3</td>\n",
       "      <td>2000.000000</td>\n",
       "    </tr>\n",
       "    <tr>\n",
       "      <th>1</th>\n",
       "      <td>Abilene</td>\n",
       "      <td>2000</td>\n",
       "      <td>2</td>\n",
       "      <td>98.0</td>\n",
       "      <td>6505000.0</td>\n",
       "      <td>58700.0</td>\n",
       "      <td>746.0</td>\n",
       "      <td>6.6</td>\n",
       "      <td>2000.083333</td>\n",
       "    </tr>\n",
       "    <tr>\n",
       "      <th>2</th>\n",
       "      <td>Abilene</td>\n",
       "      <td>2000</td>\n",
       "      <td>3</td>\n",
       "      <td>130.0</td>\n",
       "      <td>9285000.0</td>\n",
       "      <td>58100.0</td>\n",
       "      <td>784.0</td>\n",
       "      <td>6.8</td>\n",
       "      <td>2000.166667</td>\n",
       "    </tr>\n",
       "    <tr>\n",
       "      <th>3</th>\n",
       "      <td>Abilene</td>\n",
       "      <td>2000</td>\n",
       "      <td>4</td>\n",
       "      <td>98.0</td>\n",
       "      <td>9730000.0</td>\n",
       "      <td>68600.0</td>\n",
       "      <td>785.0</td>\n",
       "      <td>6.9</td>\n",
       "      <td>2000.250000</td>\n",
       "    </tr>\n",
       "    <tr>\n",
       "      <th>4</th>\n",
       "      <td>Abilene</td>\n",
       "      <td>2000</td>\n",
       "      <td>5</td>\n",
       "      <td>141.0</td>\n",
       "      <td>10590000.0</td>\n",
       "      <td>67300.0</td>\n",
       "      <td>794.0</td>\n",
       "      <td>6.8</td>\n",
       "      <td>2000.333333</td>\n",
       "    </tr>\n",
       "  </tbody>\n",
       "</table>\n",
       "</div>"
      ],
      "text/plain": [
       "      city  year  month  sales      volume   median  listings  inventory  \\\n",
       "0  Abilene  2000      1   72.0   5380000.0  71400.0     701.0        6.3   \n",
       "1  Abilene  2000      2   98.0   6505000.0  58700.0     746.0        6.6   \n",
       "2  Abilene  2000      3  130.0   9285000.0  58100.0     784.0        6.8   \n",
       "3  Abilene  2000      4   98.0   9730000.0  68600.0     785.0        6.9   \n",
       "4  Abilene  2000      5  141.0  10590000.0  67300.0     794.0        6.8   \n",
       "\n",
       "          date  \n",
       "0  2000.000000  \n",
       "1  2000.083333  \n",
       "2  2000.166667  \n",
       "3  2000.250000  \n",
       "4  2000.333333  "
      ]
     },
     "execution_count": 12,
     "metadata": {},
     "output_type": "execute_result"
    }
   ],
   "source": [
    "# Basic Imports\n",
    "import numpy as np\n",
    "import pandas as pd\n",
    "\n",
    "# Plotting Imports\n",
    "import matplotlib.pyplot as plt\n",
    "import seaborn as sns\n",
    "\n",
    "# Supervised Learning Imports\n",
    "import sklearn.linear_model as skl_lm\n",
    "import statsmodels.formula.api as smf\n",
    "\n",
    "# Load dataset\n",
    "tx_sales = pd.read_csv(\"https://vincentarelbundock.github.io/Rdatasets/csv/ggplot2/txhousing.csv\").drop(columns='Unnamed: 0').dropna()\n",
    "tx_sales.head()"
   ]
  },
  {
   "cell_type": "code",
   "execution_count": null,
   "metadata": {},
   "outputs": [],
   "source": []
  },
  {
   "cell_type": "code",
   "execution_count": null,
   "metadata": {},
   "outputs": [],
   "source": []
  },
  {
   "cell_type": "code",
   "execution_count": null,
   "metadata": {},
   "outputs": [],
   "source": []
  },
  {
   "cell_type": "markdown",
   "metadata": {},
   "source": [
    "## Question 4"
   ]
  },
  {
   "cell_type": "markdown",
   "metadata": {
    "slideshow": {
     "slide_type": "slide"
    }
   },
   "source": [
    "Using the Texas house sale data above, perform clustering on the number of sales and median price.  Do this clustering twice, once as discussed in class, and then a second time using the \"normalize\" function on the data.\n",
    "\n",
    "**a)** Perform clustering on data.  \n",
    "**b)** Plot the cluster you find with the data.  \n",
    "**c)** Perform clustering again, but using the normalize function:  \n",
    "```python\n",
    "new_X = normalize(X)  \n",
    "```\n",
    "**d** Plot the new clusters you find.  \n",
    "**e)** Discuss the difference in the outputs.  Be sure to read the [normalize documentation](https://scikit-learn.org/stable/modules/preprocessing.html#normalization) if necessary."
   ]
  },
  {
   "cell_type": "code",
   "execution_count": 27,
   "metadata": {},
   "outputs": [],
   "source": [
    "from sklearn.preprocessing import normalize\n",
    "from sklearn.cluster import KMeans, AgglomerativeClustering\n",
    "from scipy.cluster.hierarchy import dendrogram, linkage"
   ]
  },
  {
   "cell_type": "code",
   "execution_count": null,
   "metadata": {},
   "outputs": [],
   "source": []
  },
  {
   "cell_type": "code",
   "execution_count": null,
   "metadata": {},
   "outputs": [],
   "source": []
  },
  {
   "cell_type": "code",
   "execution_count": null,
   "metadata": {},
   "outputs": [],
   "source": []
  },
  {
   "cell_type": "code",
   "execution_count": null,
   "metadata": {},
   "outputs": [],
   "source": []
  },
  {
   "cell_type": "code",
   "execution_count": null,
   "metadata": {},
   "outputs": [],
   "source": []
  },
  {
   "cell_type": "code",
   "execution_count": null,
   "metadata": {},
   "outputs": [],
   "source": []
  }
 ],
 "metadata": {
  "kernelspec": {
   "display_name": "Python 3",
   "language": "python",
   "name": "python3"
  },
  "language_info": {
   "codemirror_mode": {
    "name": "ipython",
    "version": 3
   },
   "file_extension": ".py",
   "mimetype": "text/x-python",
   "name": "python",
   "nbconvert_exporter": "python",
   "pygments_lexer": "ipython3",
   "version": "3.8.3"
  },
  "varInspector": {
   "cols": {
    "lenName": 16,
    "lenType": 16,
    "lenVar": 40
   },
   "kernels_config": {
    "python": {
     "delete_cmd_postfix": "",
     "delete_cmd_prefix": "del ",
     "library": "var_list.py",
     "varRefreshCmd": "print(var_dic_list())"
    },
    "r": {
     "delete_cmd_postfix": ") ",
     "delete_cmd_prefix": "rm(",
     "library": "var_list.r",
     "varRefreshCmd": "cat(var_dic_list()) "
    }
   },
   "types_to_exclude": [
    "module",
    "function",
    "builtin_function_or_method",
    "instance",
    "_Feature"
   ],
   "window_display": false
  }
 },
 "nbformat": 4,
 "nbformat_minor": 4
}
