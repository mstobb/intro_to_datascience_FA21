{
 "cells": [
  {
   "cell_type": "markdown",
   "metadata": {},
   "source": [
    "# Introduction to Data Science\n",
    "## Homework 5\n",
    "\n",
    "Complete the assigned questions in this document directly.  You may discuss this homework with your peers, but each student should work on and submit their own assignment.  Under no circumstances should your responses or code be directly shared with another student.\n",
    "\n",
    "---\n",
    "\n",
    "This assignment is due ***Friday, October 29th***.\n",
    "\n",
    "---"
   ]
  },
  {
   "cell_type": "markdown",
   "metadata": {},
   "source": [
    "## Question 1"
   ]
  },
  {
   "cell_type": "markdown",
   "metadata": {},
   "source": [
    "In class we discussed some of the ways Sports Analytics is being used in modern day sports, from better training regimens for athletes to increased targeting of team fans.  However, some people feel that the increased use of Sports Analytics removes the ***soul*** of the sport, turning the competition into a purely scientific endeavor.  In a few sentences, respond to this idea.  Do you agree or disagree?  Explain your viewpoint."
   ]
  },
  {
   "cell_type": "markdown",
   "metadata": {},
   "source": []
  },
  {
   "cell_type": "markdown",
   "metadata": {},
   "source": [
    "## Question 2"
   ]
  },
  {
   "cell_type": "markdown",
   "metadata": {},
   "source": [
    "One idea mentioned in class was the possibility to eventually incorporate an athletes mental state into Sports Analytical calculations, for example, to assess whether they could tolerate the increased fame of the position or to measure their dedication to the team.  Some feel this is going too far and could be an invasion of privacy for the athletes.  In a few sentences, respond to this idea.  Do you agree or disagree?  Explain your viewpoint."
   ]
  },
  {
   "cell_type": "markdown",
   "metadata": {},
   "source": []
  },
  {
   "cell_type": "markdown",
   "metadata": {},
   "source": [
    "## Question 3"
   ]
  },
  {
   "cell_type": "markdown",
   "metadata": {
    "slideshow": {
     "slide_type": "slide"
    }
   },
   "source": [
    "In class we examined various statistical tests.  Using the class notes, determine if the distribution of alcohol in the wine data set is **Normally Distributed**.  Explain your results and interpret their meaning."
   ]
  },
  {
   "cell_type": "code",
   "execution_count": null,
   "metadata": {},
   "outputs": [],
   "source": [
    "import numpy as np\n",
    "from scipy import stats\n",
    "from statsmodels.graphics.gofplots import qqplot\n",
    "import pandas as pd\n",
    "\n",
    "wine_data = pd.read_csv(\"https://archive.ics.uci.edu/ml/machine-learning-databases/wine-quality/winequality-red.csv\",sep=';',usecols=[1,2,10,11])\n",
    "wine_data.head()"
   ]
  },
  {
   "cell_type": "code",
   "execution_count": null,
   "metadata": {},
   "outputs": [],
   "source": []
  },
  {
   "cell_type": "code",
   "execution_count": null,
   "metadata": {},
   "outputs": [],
   "source": []
  },
  {
   "cell_type": "code",
   "execution_count": null,
   "metadata": {},
   "outputs": [],
   "source": []
  },
  {
   "cell_type": "markdown",
   "metadata": {},
   "source": [
    "## Question 4"
   ]
  },
  {
   "cell_type": "markdown",
   "metadata": {
    "slideshow": {
     "slide_type": "slide"
    }
   },
   "source": [
    "We examined Bayesian Statistics in class, making use of Bayes Rule:\n",
    "\n",
    "$$ P(D|T) = \\frac{P(T|D) P(D)}{P(T)} . $$\n",
    "\n",
    "Let us imagine a situation where you are a doctor and you want to screen patients for a new disease.  You know that in general only around 10% of people will have this disease.  The test that screens for the disease is sadly not perfect.  When a person with the disease takes the test, the test correctly identifies them as having the disease only 92% of the time.  If a person without the disease takes the test, the test will also say they have the disease 20% of the time.\n",
    "\n",
    "Assume the variables are defined as the following events:\n",
    "\n",
    "- $D$ - A person HAS the disease\n",
    "- $-D$ - A person DOES NOT have the disease\n",
    "- $T$ - A person TESTS positive for the disease\n",
    "- $-T$ - A person DOES NOT test positive for the disease\n",
    "\n",
    "Given the information above, determine the following probabilities:\n",
    "\n",
    "- a) P(D)\n",
    "- b) P(-D)\n",
    "- c) P(T|D)\n",
    "- d) P(T|-D)\n",
    "- e) P(D|T)"
   ]
  },
  {
   "cell_type": "markdown",
   "metadata": {},
   "source": []
  }
 ],
 "metadata": {
  "kernelspec": {
   "display_name": "Python 3",
   "language": "python",
   "name": "python3"
  },
  "language_info": {
   "codemirror_mode": {
    "name": "ipython",
    "version": 3
   },
   "file_extension": ".py",
   "mimetype": "text/x-python",
   "name": "python",
   "nbconvert_exporter": "python",
   "pygments_lexer": "ipython3",
   "version": "3.8.3"
  },
  "varInspector": {
   "cols": {
    "lenName": 16,
    "lenType": 16,
    "lenVar": 40
   },
   "kernels_config": {
    "python": {
     "delete_cmd_postfix": "",
     "delete_cmd_prefix": "del ",
     "library": "var_list.py",
     "varRefreshCmd": "print(var_dic_list())"
    },
    "r": {
     "delete_cmd_postfix": ") ",
     "delete_cmd_prefix": "rm(",
     "library": "var_list.r",
     "varRefreshCmd": "cat(var_dic_list()) "
    }
   },
   "types_to_exclude": [
    "module",
    "function",
    "builtin_function_or_method",
    "instance",
    "_Feature"
   ],
   "window_display": false
  }
 },
 "nbformat": 4,
 "nbformat_minor": 4
}
