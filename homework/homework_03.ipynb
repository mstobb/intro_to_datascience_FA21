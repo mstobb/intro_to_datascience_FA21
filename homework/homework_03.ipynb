{
 "cells": [
  {
   "cell_type": "markdown",
   "metadata": {},
   "source": [
    "# Introduction to Data Science\n",
    "## Homework 3\n",
    "\n",
    "Complete the assigned questions in this document directly.  You may discuss this homework with your peers, but each student should work on and submit their own assignment.  Under no circumstances should your responses or code be directly shared with another student.\n",
    "\n",
    "---\n",
    "\n",
    "This assignment is due ***Friday, October 1st***.\n",
    "\n",
    "---"
   ]
  },
  {
   "cell_type": "markdown",
   "metadata": {},
   "source": [
    "### Question 1\n",
    "\n",
    "In class we discussed the methods and use of various Image Classification systems.  One extension of these systems is the so-called Deepfake video and audio, where image recognition is used, at least in part, to create new images or videos with artificially generated faces and voices.  One simple example of this is the website [thispersondoesnotexist.com](https://thispersondoesnotexist.com/), which randomly creates a high resolution, photo-realistic human face every time the website reloads.\n",
    "\n",
    "In several sentences, discuss some of the ethical problems that such systems might create."
   ]
  },
  {
   "cell_type": "markdown",
   "metadata": {},
   "source": []
  },
  {
   "cell_type": "markdown",
   "metadata": {},
   "source": [
    "---\n",
    "### Question 2\n",
    "\n",
    "As discussed in class, self driving cars could offer several major advantages to society, including fewer car accidents, reduced polution, and the automation of menial tasks.  However, we also identified numerous technical and ethical concerns.\n",
    "\n",
    "In several sentences, discuss **your position** on self-driving cars, being sure to state your reasons, and whether or not you would purchase one if available."
   ]
  },
  {
   "cell_type": "markdown",
   "metadata": {},
   "source": []
  },
  {
   "cell_type": "markdown",
   "metadata": {},
   "source": [
    "---\n",
    "### Question 3\n",
    "\n",
    "Consider the situation where we will simultaneously\n",
    "\n",
    "1. Flip a coin\n",
    "2. Roll a dice\n",
    "\n",
    "If the coin comes up as *tails*, it will be worth 0 points, if it comes up *heads* it will be worth 1 point.  The dice roll gets points equal to the number rolled.  After flipping/rolling, the points from each are added together to form a single random event.  For example, if I flipped my coin and rolled my dice and got a Tails and 4, then I would have a total of 4 points.\n",
    "\n",
    "Determine the probability distribution function for the described situation, then find the expected value (mean) of the system."
   ]
  },
  {
   "cell_type": "code",
   "execution_count": null,
   "metadata": {},
   "outputs": [],
   "source": []
  },
  {
   "cell_type": "markdown",
   "metadata": {},
   "source": [
    "---\n",
    "### Question 4\n",
    "\n",
    "The Python code below will simulate a dice roll $N$ times and store the result in the variable `output`, where the random event is stored in X and the probability of the random events are stored in PX (the order of the events must match the order of probabilities).  Modify the code below to simulate the random process described in Question 3.  Then make plots to show the resulting distribution (see class notes on Moodle for examples).  Does it match with your intuition?"
   ]
  },
  {
   "cell_type": "code",
   "execution_count": null,
   "metadata": {},
   "outputs": [],
   "source": [
    "import numpy as np\n",
    "\n",
    "# The number of simulations to do:\n",
    "N = 10\n",
    "\n",
    "# The possible random events:\n",
    "X = [1, 2, 3, 4, 5, 6]\n",
    "\n",
    "# The probabilities of the above random events:\n",
    "PX = [1/6, 1/6, 1/6, 1/6, 1/6, 1/6]\n",
    "\n",
    "# The code that runs the simulations (do not modify this):\n",
    "output = [X[np.argmax(np.cumsum(PX) > np.random.rand())] for i in range(N)]"
   ]
  },
  {
   "cell_type": "code",
   "execution_count": null,
   "metadata": {},
   "outputs": [],
   "source": []
  },
  {
   "cell_type": "code",
   "execution_count": null,
   "metadata": {},
   "outputs": [],
   "source": []
  },
  {
   "cell_type": "code",
   "execution_count": null,
   "metadata": {},
   "outputs": [],
   "source": []
  }
 ],
 "metadata": {
  "kernelspec": {
   "display_name": "Python 3",
   "language": "python",
   "name": "python3"
  },
  "language_info": {
   "codemirror_mode": {
    "name": "ipython",
    "version": 3
   },
   "file_extension": ".py",
   "mimetype": "text/x-python",
   "name": "python",
   "nbconvert_exporter": "python",
   "pygments_lexer": "ipython3",
   "version": "3.8.3"
  },
  "varInspector": {
   "cols": {
    "lenName": 16,
    "lenType": 16,
    "lenVar": 40
   },
   "kernels_config": {
    "python": {
     "delete_cmd_postfix": "",
     "delete_cmd_prefix": "del ",
     "library": "var_list.py",
     "varRefreshCmd": "print(var_dic_list())"
    },
    "r": {
     "delete_cmd_postfix": ") ",
     "delete_cmd_prefix": "rm(",
     "library": "var_list.r",
     "varRefreshCmd": "cat(var_dic_list()) "
    }
   },
   "types_to_exclude": [
    "module",
    "function",
    "builtin_function_or_method",
    "instance",
    "_Feature"
   ],
   "window_display": false
  }
 },
 "nbformat": 4,
 "nbformat_minor": 4
}
