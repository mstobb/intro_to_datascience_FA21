{
 "cells": [
  {
   "cell_type": "markdown",
   "metadata": {},
   "source": [
    "# Introduction to Data Science\n",
    "## Homework 1\n",
    "\n",
    "Complete the assigned questions in this document directly.  You may discuss this homework with your peers, but each student should work on and submit their own assignment.  Under no circumstances should your responses or code be directly shared with another student.\n",
    "\n",
    "---\n",
    "\n",
    "This assignment is due ***Friday, September 3rd***.\n",
    "\n",
    "---"
   ]
  },
  {
   "cell_type": "markdown",
   "metadata": {},
   "source": [
    "### Question 1\n",
    "\n",
    "In class we discussed the various ways recommendation systems are used.  One important point we made is that recommendation systems are **necessary** because of the *long tail phenomena*.  In a few sentences, describe a method, system, or situation by which we could remove this long tail and thus remove the need for a recommendation system.\n",
    "\n",
    "Respond to the question in the following markdown cell using complete sentences."
   ]
  },
  {
   "cell_type": "markdown",
   "metadata": {},
   "source": []
  },
  {
   "cell_type": "markdown",
   "metadata": {},
   "source": [
    "---\n",
    "### Question 2\n",
    "\n",
    "In class we touched on some of the potential ethical concerns related to recommendation systems.  These were separate from the potential errors that recommendation systems could have, such as the cold-start problem.  In a few sentences, discuss one possible ethical issue and how you deal with (or feel about) it.\n",
    "\n",
    "Respond to the question in the following markdown cell using complete sentences."
   ]
  },
  {
   "cell_type": "markdown",
   "metadata": {},
   "source": []
  },
  {
   "cell_type": "markdown",
   "metadata": {},
   "source": [
    "---\n",
    "### Question 3\n",
    "\n",
    "You are given a data set containing 100 realizations of a random variable and are told that the variance of the data set is 0.  What does this mean about the data and what does it tell us about the underlying random events?\n",
    "\n",
    "Respond to the question in the following markdown cell using complete sentences."
   ]
  },
  {
   "cell_type": "markdown",
   "metadata": {},
   "source": []
  },
  {
   "cell_type": "markdown",
   "metadata": {},
   "source": [
    "---\n",
    "### Question 4\n",
    "\n",
    "You are given another data set, this time it looks like the following:\n",
    "\n",
    "$$ \\text{data} = [10, 10, 10, 10, \\cdots, 10, 10, 2, 3, 20, 25] $$\n",
    "\n",
    "where the value 10 is repeated 7,246 times.  Without actually creating the data set, compute the mean, median, mode, and variance.  \n",
    "\n",
    "Note: You may want to work it out with pen and paper before typing it out."
   ]
  },
  {
   "cell_type": "markdown",
   "metadata": {},
   "source": []
  },
  {
   "cell_type": "markdown",
   "metadata": {},
   "source": [
    "---\n",
    "### Question 5\n",
    "\n",
    "In the cell below, a wine tasting data set is loaded into the variable `wine_data`.  It contains information on 4 aspects of the 1,599 tested wines.  Specifically, it gives:\n",
    "\n",
    "| Feature Name | Role in Wine |\n",
    "| ------------ |:----------- |\n",
    "| Volatile Acidity | Typically thought to be the *odor* of wine |\n",
    "| Citric Acid | Gives wine a *fresh* taste |\n",
    "| Alcohol | Percentage of alcohol measured in the wine |\n",
    "| Quality | Professional rating of the wine |\n",
    "\n",
    "Compute the correlation of the data and then interpret the results in a few sentences."
   ]
  },
  {
   "cell_type": "code",
   "execution_count": 24,
   "metadata": {},
   "outputs": [],
   "source": [
    "import pandas as pd\n",
    "wine_data = pd.read_csv(\"https://archive.ics.uci.edu/ml/machine-learning-databases/wine-quality/winequality-red.csv\",sep=';',usecols=[1,2,10,11])\n",
    "wine_data"
   ]
  },
  {
   "cell_type": "code",
   "execution_count": null,
   "metadata": {},
   "outputs": [],
   "source": []
  },
  {
   "cell_type": "code",
   "execution_count": null,
   "metadata": {},
   "outputs": [],
   "source": []
  },
  {
   "cell_type": "code",
   "execution_count": null,
   "metadata": {},
   "outputs": [],
   "source": []
  }
 ],
 "metadata": {
  "kernelspec": {
   "display_name": "Python 3",
   "language": "python",
   "name": "python3"
  },
  "language_info": {
   "codemirror_mode": {
    "name": "ipython",
    "version": 3
   },
   "file_extension": ".py",
   "mimetype": "text/x-python",
   "name": "python",
   "nbconvert_exporter": "python",
   "pygments_lexer": "ipython3",
   "version": "3.8.3"
  },
  "varInspector": {
   "cols": {
    "lenName": 16,
    "lenType": 16,
    "lenVar": 40
   },
   "kernels_config": {
    "python": {
     "delete_cmd_postfix": "",
     "delete_cmd_prefix": "del ",
     "library": "var_list.py",
     "varRefreshCmd": "print(var_dic_list())"
    },
    "r": {
     "delete_cmd_postfix": ") ",
     "delete_cmd_prefix": "rm(",
     "library": "var_list.r",
     "varRefreshCmd": "cat(var_dic_list()) "
    }
   },
   "types_to_exclude": [
    "module",
    "function",
    "builtin_function_or_method",
    "instance",
    "_Feature"
   ],
   "window_display": false
  }
 },
 "nbformat": 4,
 "nbformat_minor": 4
}
