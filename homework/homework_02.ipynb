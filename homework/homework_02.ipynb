{
 "cells": [
  {
   "cell_type": "markdown",
   "metadata": {},
   "source": [
    "# Introduction to Data Science\n",
    "## Homework 2\n",
    "\n",
    "Complete the assigned questions in this document directly.  You may discuss this homework with your peers, but each student should work on and submit their own assignment.  Under no circumstances should your responses or code be directly shared with another student.\n",
    "\n",
    "---\n",
    "\n",
    "This assignment is due ***Friday, September 17th***.\n",
    "\n",
    "---"
   ]
  },
  {
   "cell_type": "markdown",
   "metadata": {},
   "source": [
    "### Question 1\n",
    "\n",
    "In class, we discussed the advancements and shortcomings of the conversational AI system GPT3.  Furthermore, we discussed Timnit Gebru's paper discussing the current ethical problems with systems like GPT3.  In a few sentences, reflect on the state of these systems and whether it is good that we continue to use and research them."
   ]
  },
  {
   "cell_type": "markdown",
   "metadata": {},
   "source": []
  },
  {
   "cell_type": "markdown",
   "metadata": {},
   "source": [
    "---\n",
    "### Question 2\n",
    "\n",
    "In class and in the readings, we examined structured and unstructured data.  We said that structured data most often can be imagined as a spreadsheet - or a table - with clear relationships between rows and columns.  Unstructured data, on the other hand, does not have these clear relationships.  Finally, we mentioned semi-structured data, which is a mix of the two.  In a few sentences, describe why semi-structured data is not regarded as \"structured\" in the classical sense and yet it is still used extensively for communicating information.\n",
    "\n",
    "Respond to the question in the following markdown cell using complete sentences."
   ]
  },
  {
   "cell_type": "markdown",
   "metadata": {},
   "source": []
  },
  {
   "cell_type": "markdown",
   "metadata": {},
   "source": [
    "---\n",
    "### Question 3\n",
    "\n",
    "In class, we discussed how different tabular data can be formatted, and we have used the Pandas software extensively for loading and reading various data sets.  For this question, you will need to CREATE a new data file from new data (the code below is the new data).  Using the [pandas documentation](https://pandas.pydata.org/docs/), write the single command needed to save the data.  The specifics of the saved file should be:\n",
    "\n",
    "- File should have the name \"my_newest_datafile\"\n",
    "- File should be **compressed** using zip\n",
    "- File should use the non-standard separator ';'\n",
    "\n",
    "```python\n",
    "import pandas as pd\n",
    "data = pd.DataFrame({\"Name\":[\"Rambo\",\"Titanic\"],\"Rating\":[7.5, 8.9], \"Length\":[93, 194]})\n",
    "data\n",
    "```"
   ]
  },
  {
   "cell_type": "code",
   "execution_count": null,
   "metadata": {},
   "outputs": [],
   "source": []
  },
  {
   "cell_type": "code",
   "execution_count": null,
   "metadata": {},
   "outputs": [],
   "source": []
  },
  {
   "cell_type": "code",
   "execution_count": null,
   "metadata": {},
   "outputs": [],
   "source": []
  },
  {
   "cell_type": "markdown",
   "metadata": {},
   "source": [
    "---\n",
    "### Question 4\n",
    "\n",
    "In class we identified several different sources of data, including \n",
    "\n",
    "- archive.ics.uci.edu/ml/datasets.php\n",
    "- vincentarelbundock.github.io/Rdatasets/datasets.html\n",
    "- kaggle.com/datasets\n",
    "- data.gov\n",
    "\n",
    "Search for and find an interesting data set *to you*.  There are so many available data sets that no two students should select the same one.  Write a few sentences for why you found that data set worth investigating.  After finding a data set, load it into python by using pandas (sample code below).  Once the data set is loaded, compute some descriptive statistics for it.\n",
    "\n",
    "```python\n",
    "import pandas as pd\n",
    "my_data = pd.read_csv(\"https://www.RANDOMWEBSITE.com/dataset.csv\")\n",
    "```"
   ]
  },
  {
   "cell_type": "code",
   "execution_count": null,
   "metadata": {},
   "outputs": [],
   "source": []
  },
  {
   "cell_type": "code",
   "execution_count": null,
   "metadata": {},
   "outputs": [],
   "source": []
  },
  {
   "cell_type": "code",
   "execution_count": null,
   "metadata": {},
   "outputs": [],
   "source": []
  }
 ],
 "metadata": {
  "kernelspec": {
   "display_name": "Python 3",
   "language": "python",
   "name": "python3"
  },
  "language_info": {
   "codemirror_mode": {
    "name": "ipython",
    "version": 3
   },
   "file_extension": ".py",
   "mimetype": "text/x-python",
   "name": "python",
   "nbconvert_exporter": "python",
   "pygments_lexer": "ipython3",
   "version": "3.8.3"
  },
  "varInspector": {
   "cols": {
    "lenName": 16,
    "lenType": 16,
    "lenVar": 40
   },
   "kernels_config": {
    "python": {
     "delete_cmd_postfix": "",
     "delete_cmd_prefix": "del ",
     "library": "var_list.py",
     "varRefreshCmd": "print(var_dic_list())"
    },
    "r": {
     "delete_cmd_postfix": ") ",
     "delete_cmd_prefix": "rm(",
     "library": "var_list.r",
     "varRefreshCmd": "cat(var_dic_list()) "
    }
   },
   "types_to_exclude": [
    "module",
    "function",
    "builtin_function_or_method",
    "instance",
    "_Feature"
   ],
   "window_display": false
  }
 },
 "nbformat": 4,
 "nbformat_minor": 4
}
