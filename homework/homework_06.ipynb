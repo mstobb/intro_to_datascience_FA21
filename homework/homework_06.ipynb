{
 "cells": [
  {
   "cell_type": "markdown",
   "metadata": {},
   "source": [
    "# Introduction to Data Science\n",
    "## Homework 6\n",
    "\n",
    "Complete the assigned questions in this document directly.  You may discuss this homework with your peers, but each student should work on and submit their own assignment.  Under no circumstances should your responses or code be directly shared with another student.\n",
    "\n",
    "---\n",
    "\n",
    "This assignment is due ***Friday, November 12th***.\n",
    "\n",
    "---"
   ]
  },
  {
   "cell_type": "markdown",
   "metadata": {},
   "source": [
    "## Question 1"
   ]
  },
  {
   "cell_type": "markdown",
   "metadata": {},
   "source": [
    "In class we discussed how Facebook was involved in the Cambridge-Analytica scandal.  In the United States at least, Facebook did not do anything illegal; it just provided information (perhaps more information that they intended) to a licensed third party.  If Facebook did not do anything illegal, why do you think it made such headlines?  In a few sentences, discuss why you believe this was such an important story."
   ]
  },
  {
   "cell_type": "markdown",
   "metadata": {},
   "source": []
  },
  {
   "cell_type": "markdown",
   "metadata": {},
   "source": [
    "## Question 2"
   ]
  },
  {
   "cell_type": "markdown",
   "metadata": {},
   "source": [
    "In class we discussed how Facebook profits as an advertisement company and how this could be a perverse incentive for the company to exploit the information they have on people.  A natural conclusion might be that we should *regulate* Facebook somehow, to control how it operates and works.  Read the article \"*How Should We Limit Facebook’s Power?*\" on Moodle, then in a few sentences give your opinion.  Specificially, should we regulate Facebook?  If so, what do you think is the best way?"
   ]
  },
  {
   "cell_type": "markdown",
   "metadata": {},
   "source": []
  },
  {
   "cell_type": "markdown",
   "metadata": {},
   "source": [
    "## Question 3"
   ]
  },
  {
   "cell_type": "markdown",
   "metadata": {
    "slideshow": {
     "slide_type": "slide"
    }
   },
   "source": [
    "The dataset loaded below represents home sales in the state of Texas (more information about the data can be found [here](https://vincentarelbundock.github.io/Rdatasets/doc/ggplot2/txhousing.html)).  Use the dataset to make the requested ***publication quality*** plots.  After each plot, give a description of your findings based on the figure in words."
   ]
  },
  {
   "cell_type": "code",
   "execution_count": null,
   "metadata": {},
   "outputs": [],
   "source": [
    "import numpy as np\n",
    "from scipy import stats\n",
    "import pandas as pd\n",
    "import matplotlib.pyplot as plt\n",
    "import seaborn as sns\n",
    "import plotly.express as px\n",
    "\n",
    "tx_sales = pd.read_csv(\"https://vincentarelbundock.github.io/Rdatasets/csv/ggplot2/txhousing.csv\").drop(columns='Unnamed: 0')\n",
    "tx_sales.head()"
   ]
  },
  {
   "cell_type": "markdown",
   "metadata": {},
   "source": [
    "- **A)** Make a figure showing the relationship between the price of the home and the number of listings and the number of sales.\n",
    "- **B)** Make a figure comparing the home prices between the different cities.\n",
    "- **C)** Make a figure comparing the home prices over the years.\n",
    "- **D)** Make a figure showing the distribution of home prices for each city and year.\n",
    "- **E)** Make your own plot, of something not mentioned above, that seems interesting to you."
   ]
  },
  {
   "cell_type": "code",
   "execution_count": null,
   "metadata": {},
   "outputs": [],
   "source": []
  },
  {
   "cell_type": "code",
   "execution_count": null,
   "metadata": {},
   "outputs": [],
   "source": []
  },
  {
   "cell_type": "code",
   "execution_count": null,
   "metadata": {},
   "outputs": [],
   "source": []
  },
  {
   "cell_type": "code",
   "execution_count": null,
   "metadata": {},
   "outputs": [],
   "source": []
  },
  {
   "cell_type": "code",
   "execution_count": null,
   "metadata": {},
   "outputs": [],
   "source": []
  },
  {
   "cell_type": "markdown",
   "metadata": {},
   "source": [
    "## Question 4"
   ]
  },
  {
   "cell_type": "markdown",
   "metadata": {
    "slideshow": {
     "slide_type": "slide"
    }
   },
   "source": [
    "In class we learned how to make basic animations.  This question will give you a chance to make your own!  Create a simple animation that ***looks cool to you***.  It cannot be directly from the notes, though you may use the notes for inspiration, and it cannot be copied anywhere from the internet.  It should be original, from you.\n",
    "\n",
    "To help you get started, here is a basic animation we did in class."
   ]
  },
  {
   "cell_type": "code",
   "execution_count": null,
   "metadata": {},
   "outputs": [],
   "source": [
    "import numpy as np\n",
    "import matplotlib.pyplot as plt\n",
    "from matplotlib.animation import FuncAnimation\n",
    "\n",
    "# This will let us view the animation in Jupyter\n",
    "from matplotlib import rc\n",
    "rc('animation', html='html5')  "
   ]
  },
  {
   "cell_type": "code",
   "execution_count": null,
   "metadata": {},
   "outputs": [],
   "source": [
    "# Setup the initial figure\n",
    "fig = plt.figure(dpi=100)\n",
    "xdata = []\n",
    "ydata = []\n",
    "ln, = plt.plot(xdata, ydata, marker=\"o\", color='red')\n",
    "plt.xlim(0,10)\n",
    "plt.ylim(0,10)\n",
    "\n",
    "# Define the update function\n",
    "def update(frame_num):\n",
    "    xdata.append(frame_num)\n",
    "    ydata.append(frame_num)\n",
    "    ln.set_data(xdata, ydata)\n",
    "    return ln,\n",
    "\n",
    "# Create the animation\n",
    "my_anim = FuncAnimation(fig, update, frames=[1,2,3,4,5,6,7,8,9,10])\n",
    "\n",
    "# View the animation in Jupyter\n",
    "my_anim"
   ]
  },
  {
   "cell_type": "code",
   "execution_count": null,
   "metadata": {},
   "outputs": [],
   "source": []
  },
  {
   "cell_type": "code",
   "execution_count": null,
   "metadata": {},
   "outputs": [],
   "source": []
  },
  {
   "cell_type": "code",
   "execution_count": null,
   "metadata": {},
   "outputs": [],
   "source": []
  },
  {
   "cell_type": "code",
   "execution_count": null,
   "metadata": {},
   "outputs": [],
   "source": []
  }
 ],
 "metadata": {
  "kernelspec": {
   "display_name": "Python 3",
   "language": "python",
   "name": "python3"
  },
  "language_info": {
   "codemirror_mode": {
    "name": "ipython",
    "version": 3
   },
   "file_extension": ".py",
   "mimetype": "text/x-python",
   "name": "python",
   "nbconvert_exporter": "python",
   "pygments_lexer": "ipython3",
   "version": "3.8.3"
  },
  "varInspector": {
   "cols": {
    "lenName": 16,
    "lenType": 16,
    "lenVar": 40
   },
   "kernels_config": {
    "python": {
     "delete_cmd_postfix": "",
     "delete_cmd_prefix": "del ",
     "library": "var_list.py",
     "varRefreshCmd": "print(var_dic_list())"
    },
    "r": {
     "delete_cmd_postfix": ") ",
     "delete_cmd_prefix": "rm(",
     "library": "var_list.r",
     "varRefreshCmd": "cat(var_dic_list()) "
    }
   },
   "types_to_exclude": [
    "module",
    "function",
    "builtin_function_or_method",
    "instance",
    "_Feature"
   ],
   "window_display": false
  }
 },
 "nbformat": 4,
 "nbformat_minor": 4
}
