{
 "cells": [
  {
   "cell_type": "markdown",
   "metadata": {},
   "source": [
    "# Class Notes on Statistical Tests"
   ]
  },
  {
   "cell_type": "markdown",
   "metadata": {},
   "source": [
    "Statistical tests are used to answer very specific questions about a data set.  They only apply in certain conditions, and they only answer certain questions, but they have great *statistical strength*.  "
   ]
  },
  {
   "cell_type": "markdown",
   "metadata": {},
   "source": [
    "## Basic Tests\n",
    "\n",
    "These tests are used mostly for when we are exploring a data set.  They often let us apply later tests.  While these will be the only that we explore in this class, there are *several* other statistical tests that are frequently used in Data Science."
   ]
  },
  {
   "cell_type": "markdown",
   "metadata": {},
   "source": [
    "### 1) Test for Normality\n",
    "\n",
    "- Many theories in Data Science assume that a data set is **Normaly Distributed**\n",
    "    - i.e., it has a bell shape.  \n",
    "- A *test for normality* gives us a way to verify if a particular data set really **HAS** a Normal Distribution\n",
    "- There are actually several such tests:\n",
    "    - Lilliefors Test\n",
    "    - Anderson-Darling Test\n",
    "    - Cramer-von Mises Test\n",
    "    \n",
    "- One of the simplest to use is a **Visual Check**\n",
    "    - This works by simply plotting the data and overlaying the equivalent Normal Distribution"
   ]
  },
  {
   "cell_type": "code",
   "execution_count": null,
   "metadata": {},
   "outputs": [],
   "source": [
    "import pandas as pd\n",
    "hw_data = pd.read_csv(\"http://nur-socr-web-dev02.miserver.it.umich.edu:3000/datasets/Baseball_Players.csv\", usecols=[\"Name\",\"Height(inches)\",\"Weight(pounds)\"])\n",
    "hw_data.head()"
   ]
  },
  {
   "cell_type": "code",
   "execution_count": null,
   "metadata": {},
   "outputs": [],
   "source": [
    "hw_data.shape"
   ]
  },
  {
   "cell_type": "code",
   "execution_count": null,
   "metadata": {},
   "outputs": [],
   "source": [
    "import matplotlib.pyplot as plt\n",
    "plt.rc(\"figure\", figsize=(10,4), dpi=100)"
   ]
  },
  {
   "cell_type": "code",
   "execution_count": null,
   "metadata": {},
   "outputs": [],
   "source": [
    "plt.hist(hw_data[\"Height(inches)\"], bins=17, density=True)\n",
    "plt.grid()\n",
    "plt.xlabel(\"Height\"); plt.ylabel(\"Fraction of People\")\n",
    "plt.show()"
   ]
  },
  {
   "cell_type": "code",
   "execution_count": null,
   "metadata": {},
   "outputs": [],
   "source": [
    "import numpy as np\n",
    "from scipy import stats"
   ]
  },
  {
   "cell_type": "code",
   "execution_count": null,
   "metadata": {},
   "outputs": [],
   "source": [
    "d_mean = hw_data.mean()[0]\n",
    "d_std = hw_data.std()[0]"
   ]
  },
  {
   "cell_type": "code",
   "execution_count": null,
   "metadata": {},
   "outputs": [],
   "source": [
    "d_mean"
   ]
  },
  {
   "cell_type": "code",
   "execution_count": null,
   "metadata": {},
   "outputs": [],
   "source": [
    "d_std"
   ]
  },
  {
   "cell_type": "code",
   "execution_count": null,
   "metadata": {},
   "outputs": [],
   "source": [
    "plt.hist(hw_data[\"Height(inches)\"], bins=17, density=True)\n",
    "xline = np.linspace(65,85)\n",
    "plt.plot(xline, stats.norm.pdf(xline,d_mean,d_std),linewidth=5)\n",
    "plt.grid()\n",
    "plt.xlabel(\"Height\"); plt.ylabel(\"Number of People\")\n",
    "plt.show()"
   ]
  },
  {
   "cell_type": "code",
   "execution_count": null,
   "metadata": {},
   "outputs": [],
   "source": [
    "from statsmodels.graphics.gofplots import qqplot"
   ]
  },
  {
   "cell_type": "code",
   "execution_count": null,
   "metadata": {},
   "outputs": [],
   "source": [
    "qqplot(hw_data[\"Height(inches)\"], line='s')\n",
    "plt.grid()\n",
    "plt.show()"
   ]
  },
  {
   "cell_type": "markdown",
   "metadata": {},
   "source": [
    "- A statistical test that could tell us the same thing is the Shipiro-Wilks test, \n",
    "- When this test returns a small probability, it tells us the data is likely **not** normal"
   ]
  },
  {
   "cell_type": "code",
   "execution_count": null,
   "metadata": {
    "scrolled": true
   },
   "outputs": [],
   "source": [
    "stats.shapiro(hw_data[\"Height(inches)\"])"
   ]
  },
  {
   "cell_type": "code",
   "execution_count": null,
   "metadata": {},
   "outputs": [],
   "source": [
    "plt.hist(hw_data[\"Weight(pounds)\"], bins=15, density=True)\n",
    "plt.grid()\n",
    "plt.show()"
   ]
  },
  {
   "cell_type": "code",
   "execution_count": null,
   "metadata": {},
   "outputs": [],
   "source": [
    "qqplot(hw_data[\"Weight(pounds)\"], line='s')\n",
    "plt.grid()\n",
    "plt.show()"
   ]
  },
  {
   "cell_type": "code",
   "execution_count": null,
   "metadata": {},
   "outputs": [],
   "source": [
    "stats.shapiro(hw_data[\"Weight(pounds)\"])"
   ]
  },
  {
   "cell_type": "markdown",
   "metadata": {},
   "source": [
    "#### What About Other Distributions?\n",
    "\n",
    "- If we wanted to test for other distributional shapes, we can always use the **Kolmogorov-Smirnov Test**, which lets us test any general distribution\n",
    "    - Often abbreviated as the KS Test"
   ]
  },
  {
   "cell_type": "code",
   "execution_count": null,
   "metadata": {},
   "outputs": [],
   "source": [
    "stats.kstest(hw_data[\"Height(inches)\"], 'norm')"
   ]
  },
  {
   "cell_type": "code",
   "execution_count": null,
   "metadata": {},
   "outputs": [],
   "source": [
    "stats.kstest(hw_data[\"Height(inches)\"], 'expon')"
   ]
  },
  {
   "cell_type": "code",
   "execution_count": null,
   "metadata": {},
   "outputs": [],
   "source": [
    "stats.kstest(hw_data[\"Height(inches)\"], 'laplace')"
   ]
  },
  {
   "cell_type": "code",
   "execution_count": null,
   "metadata": {},
   "outputs": [],
   "source": [
    "stats.kstest(hw_data[\"Height(inches)\"], 'uniform')"
   ]
  },
  {
   "cell_type": "markdown",
   "metadata": {},
   "source": [
    "### 2) Test for Outliers\n",
    "\n",
    "- Whenever we look at data, we need to be wary of outliers\n",
    "    - They can really mess up predictions\n",
    "    - They may need to be removed\n",
    "- An outlier can be:\n",
    "    - a **global** outlier if it is significantly different than all other data points\n",
    "    - a **contextual** outlier if it is only an outlier in a certain context\n",
    "        - These are much harder to find\n",
    "- There are multiple definitions for global outliers:\n",
    "    - If the data is roughly normal, then any data points more than 3 standard deviations away is an outlier\n",
    "    - Using the quartiles (25\\% chunks of the data) we can calculate the Inter-Quartile-Range (IQR) as the distance between the 25\\% chunk and the 75\\% of data\n",
    "        - Any data point more than 1.5 times the IQR is an outlier\n",
    "    - More generally, a global outlier is typically defined as being *significantly* further away from the 1 and 99 percentiles"
   ]
  },
  {
   "cell_type": "code",
   "execution_count": null,
   "metadata": {},
   "outputs": [],
   "source": [
    "plt.boxplot(hw_data[\"Height(inches)\"],vert=False, patch_artist=True)\n",
    "plt.show()"
   ]
  },
  {
   "cell_type": "code",
   "execution_count": null,
   "metadata": {},
   "outputs": [],
   "source": [
    "hw_data[hw_data[\"Height(inches)\"] < 68]"
   ]
  },
  {
   "cell_type": "code",
   "execution_count": null,
   "metadata": {},
   "outputs": [],
   "source": [
    "hw_data[hw_data[\"Height(inches)\"] > 79]"
   ]
  },
  {
   "cell_type": "markdown",
   "metadata": {},
   "source": [
    "- The Tietjen-Moore test can find outliers\n",
    "- It typically requires the exact specification of the NUMBER of supposed outliers"
   ]
  },
  {
   "cell_type": "code",
   "execution_count": null,
   "metadata": {},
   "outputs": [],
   "source": [
    "import scikit_posthocs"
   ]
  },
  {
   "cell_type": "code",
   "execution_count": null,
   "metadata": {},
   "outputs": [],
   "source": [
    "good_vals = scikit_posthocs.outliers_tietjen(hw_data[\"Height(inches)\"], 12)"
   ]
  },
  {
   "cell_type": "code",
   "execution_count": null,
   "metadata": {},
   "outputs": [],
   "source": [
    "plt.boxplot([good_vals,hw_data[\"Height(inches)\"]],vert=False, patch_artist=True)\n",
    "plt.show()"
   ]
  },
  {
   "cell_type": "markdown",
   "metadata": {},
   "source": [
    "### 3) Test for Correlation\n",
    "\n",
    "- We have already looked at correlations in class, but we did not test is the correlation was **significant**\n",
    "- This is different than having a large or small correlation\n",
    "- The correlation is deemed *significant* if it is large enough given the *sample size*"
   ]
  },
  {
   "cell_type": "code",
   "execution_count": null,
   "metadata": {},
   "outputs": [],
   "source": [
    "from scipy.stats import pearsonr"
   ]
  },
  {
   "cell_type": "code",
   "execution_count": null,
   "metadata": {},
   "outputs": [],
   "source": [
    "hw_data.corr()"
   ]
  },
  {
   "cell_type": "code",
   "execution_count": null,
   "metadata": {},
   "outputs": [],
   "source": [
    "stat, p = pearsonr(hw_data[\"Height(inches)\"], hw_data[\"Weight(pounds)\"])"
   ]
  },
  {
   "cell_type": "code",
   "execution_count": null,
   "metadata": {},
   "outputs": [],
   "source": [
    "stat"
   ]
  },
  {
   "cell_type": "code",
   "execution_count": null,
   "metadata": {},
   "outputs": [],
   "source": [
    "p"
   ]
  },
  {
   "cell_type": "markdown",
   "metadata": {},
   "source": [
    "- This super small value indicates that the two data sets are **very significantly** correlated."
   ]
  },
  {
   "cell_type": "markdown",
   "metadata": {},
   "source": [
    "### 4) Test for Homogenity\n",
    "\n",
    "- Sometimes we want to test if two sets of data have the same *frequency* of labels showing up\n",
    "- For example, we could label all the baseball players above 200lbs as \"Big\" and all players below 200lbs as \"Small\"\n",
    "- We could then check to see if the label \"Big\" occurs with the same frequency for tall people (above 74\") as it does for shorter people"
   ]
  },
  {
   "cell_type": "code",
   "execution_count": null,
   "metadata": {},
   "outputs": [],
   "source": [
    "df = hw_data"
   ]
  },
  {
   "cell_type": "code",
   "execution_count": null,
   "metadata": {},
   "outputs": [],
   "source": [
    "df['Size'] = pd.Categorical([\"Big\"]*1034, categories=[\"Big\", \"Small\"])"
   ]
  },
  {
   "cell_type": "code",
   "execution_count": null,
   "metadata": {},
   "outputs": [],
   "source": [
    "df.loc[df[\"Weight(pounds)\"] > 200, 'Size'] = \"Big\""
   ]
  },
  {
   "cell_type": "code",
   "execution_count": null,
   "metadata": {},
   "outputs": [],
   "source": [
    "df.loc[df[\"Weight(pounds)\"] <= 200, 'Size'] = \"Small\""
   ]
  },
  {
   "cell_type": "code",
   "execution_count": null,
   "metadata": {},
   "outputs": [],
   "source": [
    "df[df[\"Height(inches)\"] > 74].Size.value_counts()/df[df[\"Height(inches)\"] > 74].count()[0]"
   ]
  },
  {
   "cell_type": "code",
   "execution_count": null,
   "metadata": {},
   "outputs": [],
   "source": [
    "df[df[\"Height(inches)\"] > 74].count()[0]"
   ]
  },
  {
   "cell_type": "code",
   "execution_count": null,
   "metadata": {},
   "outputs": [],
   "source": [
    "df[df[\"Height(inches)\"] <= 74].Size.value_counts()/df[df[\"Height(inches)\"] <= 74].count()[0]"
   ]
  },
  {
   "cell_type": "code",
   "execution_count": null,
   "metadata": {},
   "outputs": [],
   "source": [
    "plt.hist(df.loc[df[\"Height(inches)\"] > 74, \"Weight(pounds)\"], bins=10)\n",
    "plt.hist(df.loc[df[\"Height(inches)\"] <= 74, \"Weight(pounds)\"], bins=10, alpha=0.5)\n",
    "plt.legend([\"Tall\", \"Short\"])\n",
    "plt.grid()\n",
    "plt.show()"
   ]
  },
  {
   "cell_type": "code",
   "execution_count": null,
   "metadata": {},
   "outputs": [],
   "source": [
    "df.loc[df[\"Height(inches)\"] > 74, \"Size\"].value_counts().plot(kind='bar', rot=0)\n",
    "plt.grid()\n",
    "plt.show()"
   ]
  },
  {
   "cell_type": "code",
   "execution_count": null,
   "metadata": {},
   "outputs": [],
   "source": [
    "df.loc[df[\"Height(inches)\"] <= 74, \"Size\"].value_counts().plot(kind='bar', rot=0)\n",
    "plt.grid()\n",
    "plt.show()"
   ]
  },
  {
   "cell_type": "markdown",
   "metadata": {},
   "source": [
    "- We can use a ChiSquare test to determine if they are in fact different"
   ]
  },
  {
   "cell_type": "code",
   "execution_count": null,
   "metadata": {},
   "outputs": [],
   "source": [
    "from scipy.stats import chisquare"
   ]
  },
  {
   "cell_type": "code",
   "execution_count": null,
   "metadata": {},
   "outputs": [],
   "source": [
    "chisquare([0.698113,0.301887], [0.675716,0.324284])"
   ]
  }
 ],
 "metadata": {
  "kernelspec": {
   "display_name": "Python 3",
   "language": "python",
   "name": "python3"
  },
  "language_info": {
   "codemirror_mode": {
    "name": "ipython",
    "version": 3
   },
   "file_extension": ".py",
   "mimetype": "text/x-python",
   "name": "python",
   "nbconvert_exporter": "python",
   "pygments_lexer": "ipython3",
   "version": "3.8.3"
  },
  "varInspector": {
   "cols": {
    "lenName": 16,
    "lenType": 16,
    "lenVar": 40
   },
   "kernels_config": {
    "python": {
     "delete_cmd_postfix": "",
     "delete_cmd_prefix": "del ",
     "library": "var_list.py",
     "varRefreshCmd": "print(var_dic_list())"
    },
    "r": {
     "delete_cmd_postfix": ") ",
     "delete_cmd_prefix": "rm(",
     "library": "var_list.r",
     "varRefreshCmd": "cat(var_dic_list()) "
    }
   },
   "types_to_exclude": [
    "module",
    "function",
    "builtin_function_or_method",
    "instance",
    "_Feature"
   ],
   "window_display": false
  }
 },
 "nbformat": 4,
 "nbformat_minor": 4
}
