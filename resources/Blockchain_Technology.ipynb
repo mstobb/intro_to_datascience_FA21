{
  "nbformat": 4,
  "nbformat_minor": 0,
  "metadata": {
    "colab": {
      "name": "Blockchain_Technology.ipynb",
      "provenance": [],
      "collapsed_sections": []
    },
    "kernelspec": {
      "name": "python3",
      "display_name": "Python 3"
    },
    "language_info": {
      "name": "python"
    }
  },
  "cells": [
    {
      "cell_type": "markdown",
      "metadata": {
        "id": "ejo00CJOGYEs"
      },
      "source": [
        "# Blockchain Technology\n",
        "\n",
        "- Over the past few lectures, we have discussed some of the problems with current data usage, namely problems of privacy and ownership.  Some feel that a wider adoption of Blockchain technology could be used to fix this issue.  "
      ]
    },
    {
      "cell_type": "markdown",
      "metadata": {
        "id": "RBmgb6w3Ki4M"
      },
      "source": [
        "---"
      ]
    },
    {
      "cell_type": "markdown",
      "metadata": {
        "id": "7byObBqeGxhB"
      },
      "source": [
        "## What is a Blockchain?\n",
        "\n"
      ]
    },
    {
      "cell_type": "markdown",
      "metadata": {
        "id": "YVwNiz6xKe_P"
      },
      "source": [
        "Blockchains are digitial ledgers which keep track of transactional information.  \n",
        "- The \"blocks\" are sets of transactions (at the current time)\n",
        "- The \"chain\" is that each new block starts with the \"*fingerprint*\" of the last block\n",
        "  - This means that the transactional record can be fully reconstructed\n",
        "- The \"*fingerprint*\" is a special function called a *hash*\n",
        "  - Hashing functions take information and compute a NUMBER\n",
        "  - This number is essentially random, but nearly unique to the information\n",
        "  - Altering the information, even a single digit, will radically change the resulting hash\n",
        "  - There are MANY different hash functions\n",
        "    - Probably the most common is SHA256, which produces a number 256 bits long\n",
        "  - It is impossible for current computers to use the hash to determine the original information\n",
        "  - Hashes are usually thought of as \"One Direction\""
      ]
    },
    {
      "cell_type": "code",
      "metadata": {
        "id": "v7b0BVgXGQQr"
      },
      "source": [
        "import hashlib"
      ],
      "execution_count": null,
      "outputs": []
    },
    {
      "cell_type": "code",
      "metadata": {
        "id": "uPl4mdqEHXiE"
      },
      "source": [
        "my_transactions = \"\"\"\n",
        "Abby -> Billy, $5.00\n",
        "Cathy -> Dave, $2.00\n",
        "Everet -> Fred, $10.00\n",
        "\"\"\""
      ],
      "execution_count": null,
      "outputs": []
    },
    {
      "cell_type": "code",
      "metadata": {
        "colab": {
          "base_uri": "https://localhost:8080/"
        },
        "id": "dTtHSKVXI-WD",
        "outputId": "f96e0c9b-05de-477a-cd15-f1fd5a8c507b"
      },
      "source": [
        "print(my_transactions)"
      ],
      "execution_count": null,
      "outputs": [
        {
          "output_type": "stream",
          "name": "stdout",
          "text": [
            "\n",
            "Abby -> Billy, $5.00\n",
            "Cathy -> Dave, $2.00\n",
            "Everet -> Fred, $10.00\n",
            "\n"
          ]
        }
      ]
    },
    {
      "cell_type": "code",
      "metadata": {
        "id": "aKjKPtznJAZB"
      },
      "source": [
        "hash = hashlib.sha256(my_transactions.encode())"
      ],
      "execution_count": null,
      "outputs": []
    },
    {
      "cell_type": "code",
      "metadata": {
        "colab": {
          "base_uri": "https://localhost:8080/",
          "height": 35
        },
        "id": "DrZ_dGzgJHRr",
        "outputId": "7adf9844-9131-43bb-a795-19cc0f602344"
      },
      "source": [
        "hash.hexdigest()"
      ],
      "execution_count": null,
      "outputs": [
        {
          "output_type": "execute_result",
          "data": {
            "application/vnd.google.colaboratory.intrinsic+json": {
              "type": "string"
            },
            "text/plain": [
              "'536489210931c09b245ff85749a668035e58e83b50a583a63b43bc1594b3c79a'"
            ]
          },
          "metadata": {},
          "execution_count": 5
        }
      ]
    },
    {
      "cell_type": "code",
      "metadata": {
        "colab": {
          "base_uri": "https://localhost:8080/",
          "height": 35
        },
        "id": "9LzNU_LwORuy",
        "outputId": "8e689960-8960-4b21-e1c4-2eb12c25e287"
      },
      "source": [
        "hashlib.sha256(my_transactions.encode()).hexdigest()"
      ],
      "execution_count": null,
      "outputs": [
        {
          "output_type": "execute_result",
          "data": {
            "application/vnd.google.colaboratory.intrinsic+json": {
              "type": "string"
            },
            "text/plain": [
              "'536489210931c09b245ff85749a668035e58e83b50a583a63b43bc1594b3c79a'"
            ]
          },
          "metadata": {},
          "execution_count": 6
        }
      ]
    },
    {
      "cell_type": "code",
      "metadata": {
        "colab": {
          "base_uri": "https://localhost:8080/",
          "height": 87
        },
        "id": "5QvOb1BYMjC7",
        "outputId": "1a509521-fdbb-49f1-c3ff-c56520beb55d"
      },
      "source": [
        "bin(int(hash.hexdigest(), 16))"
      ],
      "execution_count": null,
      "outputs": [
        {
          "output_type": "execute_result",
          "data": {
            "application/vnd.google.colaboratory.intrinsic+json": {
              "type": "string"
            },
            "text/plain": [
              "'0b101001101100100100010010010000100001001001100011100000010011011001001000101111111111000010101110100100110100110011010000000001101011110010110001110100000111011010100001010010110000011101001100011101101000011101111000001010110010100101100111100011110011010'"
            ]
          },
          "metadata": {},
          "execution_count": 7
        }
      ]
    },
    {
      "cell_type": "code",
      "metadata": {
        "id": "jLZ_IMyBOZFG"
      },
      "source": [
        "\n",
        "\n",
        "\n",
        "\n",
        "\n",
        "\n",
        "\n",
        "\n",
        "\n"
      ],
      "execution_count": null,
      "outputs": []
    },
    {
      "cell_type": "code",
      "metadata": {
        "id": "FE3bn07TJjsC"
      },
      "source": [
        "my_altered_transactions = \"\"\"\n",
        "Abby -> Billy, $5.00\n",
        "Cathy -> Dave, $20.00\n",
        "Everet -> Fred, $10.00\n",
        "\"\"\""
      ],
      "execution_count": null,
      "outputs": []
    },
    {
      "cell_type": "code",
      "metadata": {
        "id": "N3SHu6xBKSny"
      },
      "source": [
        "new_hash = hashlib.sha256(my_altered_transactions.encode())"
      ],
      "execution_count": null,
      "outputs": []
    },
    {
      "cell_type": "code",
      "metadata": {
        "colab": {
          "base_uri": "https://localhost:8080/",
          "height": 35
        },
        "id": "kGSsS7gZKbIb",
        "outputId": "94d103ce-5ffa-40bd-da2c-82381db53db7"
      },
      "source": [
        "new_hash.hexdigest()"
      ],
      "execution_count": null,
      "outputs": [
        {
          "output_type": "execute_result",
          "data": {
            "application/vnd.google.colaboratory.intrinsic+json": {
              "type": "string"
            },
            "text/plain": [
              "'8c39405f33c7d0756e599f6ad426492becc7f535847800fbc68730e805f61caa'"
            ]
          },
          "metadata": {},
          "execution_count": 11
        }
      ]
    },
    {
      "cell_type": "code",
      "metadata": {
        "colab": {
          "base_uri": "https://localhost:8080/"
        },
        "id": "ipaiMY9-NZzz",
        "outputId": "940c34e1-5668-41fe-c3fa-77d8587127eb"
      },
      "source": [
        "print(\"1: \",hash.hexdigest())\n",
        "print(\"2: \",new_hash.hexdigest())"
      ],
      "execution_count": null,
      "outputs": [
        {
          "output_type": "stream",
          "name": "stdout",
          "text": [
            "1:  536489210931c09b245ff85749a668035e58e83b50a583a63b43bc1594b3c79a\n",
            "2:  8c39405f33c7d0756e599f6ad426492becc7f535847800fbc68730e805f61caa\n"
          ]
        }
      ]
    },
    {
      "cell_type": "markdown",
      "metadata": {
        "id": "OJoDFF9CO-nD"
      },
      "source": [
        "Transactional records can be **verified** using the hash!"
      ]
    },
    {
      "cell_type": "code",
      "metadata": {
        "colab": {
          "base_uri": "https://localhost:8080/",
          "height": 121
        },
        "id": "wGBve0GdNkx8",
        "outputId": "36c4b602-7976-4c37-d9fa-11fbe9ab17d0"
      },
      "source": [
        "my_transactions = \"\"\"\n",
        "Abby -> Billy, $5.00\n",
        "Cathy -> Dave, $2.00\n",
        "Everet -> Fred, $10.00\n",
        "\"\"\"\n",
        "\n",
        "print(my_transactions)\n",
        "hashlib.sha256(my_transactions.encode()).hexdigest()"
      ],
      "execution_count": null,
      "outputs": [
        {
          "output_type": "stream",
          "name": "stdout",
          "text": [
            "\n",
            "Abby -> Billy, $5.00\n",
            "Cathy -> Dave, $2.00\n",
            "Everet -> Fred, $10.00\n",
            "\n"
          ]
        },
        {
          "output_type": "execute_result",
          "data": {
            "application/vnd.google.colaboratory.intrinsic+json": {
              "type": "string"
            },
            "text/plain": [
              "'536489210931c09b245ff85749a668035e58e83b50a583a63b43bc1594b3c79a'"
            ]
          },
          "metadata": {},
          "execution_count": 13
        }
      ]
    },
    {
      "cell_type": "code",
      "metadata": {
        "id": "GCaDAG_rPTz7"
      },
      "source": [
        ""
      ],
      "execution_count": null,
      "outputs": []
    },
    {
      "cell_type": "code",
      "metadata": {
        "id": "IxgEp56YPg9o"
      },
      "source": [
        ""
      ],
      "execution_count": null,
      "outputs": []
    },
    {
      "cell_type": "code",
      "metadata": {
        "id": "-CM8VuJ4Pgvp"
      },
      "source": [
        ""
      ],
      "execution_count": null,
      "outputs": []
    },
    {
      "cell_type": "markdown",
      "metadata": {
        "id": "PXgwsRvMPf57"
      },
      "source": [
        "### Not Enough\n",
        "\n",
        "- Supplying the hash alongside the list of transactions allows anyone to verify the transactions\n",
        "- This does not stop all fraud!\n",
        "- Someone could create an alternative set of transactions and supply their own new hash\n",
        "- To make fraud harder, we can force the hash to follow certain arbitrary restrictions\n",
        "  - One simple restriction is that the hash must start with a zero\n",
        "  - We will include a random number, called a \"nonce\", as part of the transcations, altering it until we meet the condition"
      ]
    },
    {
      "cell_type": "code",
      "metadata": {
        "colab": {
          "base_uri": "https://localhost:8080/",
          "height": 138
        },
        "id": "F15P139hQbwJ",
        "outputId": "cffda43a-776c-47d7-f1b0-51943d74f172"
      },
      "source": [
        "my_transactions = \"\"\"\n",
        "Abby -> Billy, $5.00\n",
        "Cathy -> Dave, $2.00\n",
        "Everet -> Fred, $10.00\n",
        "nonce = 7834092\n",
        "\"\"\"\n",
        "\n",
        "print(my_transactions)\n",
        "hashlib.sha256(my_transactions.encode()).hexdigest()"
      ],
      "execution_count": null,
      "outputs": [
        {
          "output_type": "stream",
          "name": "stdout",
          "text": [
            "\n",
            "Abby -> Billy, $5.00\n",
            "Cathy -> Dave, $2.00\n",
            "Everet -> Fred, $10.00\n",
            "nonce = 7834092\n",
            "\n"
          ]
        },
        {
          "output_type": "execute_result",
          "data": {
            "application/vnd.google.colaboratory.intrinsic+json": {
              "type": "string"
            },
            "text/plain": [
              "'7945b508013dd05a4ff2911b53fd92124383224f9ebe6bfcff55e273542aa728'"
            ]
          },
          "metadata": {},
          "execution_count": 14
        }
      ]
    },
    {
      "cell_type": "markdown",
      "metadata": {
        "id": "2sOiUA5oRRJh"
      },
      "source": [
        "---\n",
        "There is NO WAY to tell what nonce is required to force the first digit to be zero.  We simply have to try different values and CHECK.\n",
        "\n",
        "- This trying different random numbers and checking the hash condition is the essential work of \"mining\" cryptocurrency\n",
        "- Big computers, with large GPUs, are used to check billions of different nonces\n",
        "- The computer that finds the nonce is rewarded with money\n",
        "\n",
        "---"
      ]
    },
    {
      "cell_type": "code",
      "metadata": {
        "colab": {
          "base_uri": "https://localhost:8080/",
          "height": 138
        },
        "id": "LeEs8pTLRD7r",
        "outputId": "92f8e99c-5387-446d-b5fb-1ca11e775c44"
      },
      "source": [
        "my_transactions_1 = \"\"\"\n",
        "Abby -> Billy, $5.00\n",
        "Cathy -> Dave, $2.00\n",
        "Everet -> Fred, $10.00\n",
        "nonce = 7834091\n",
        "\"\"\"\n",
        "\n",
        "print(my_transactions_1)\n",
        "hashlib.sha256(my_transactions_1.encode()).hexdigest()"
      ],
      "execution_count": null,
      "outputs": [
        {
          "output_type": "stream",
          "name": "stdout",
          "text": [
            "\n",
            "Abby -> Billy, $5.00\n",
            "Cathy -> Dave, $2.00\n",
            "Everet -> Fred, $10.00\n",
            "nonce = 7834091\n",
            "\n"
          ]
        },
        {
          "output_type": "execute_result",
          "data": {
            "application/vnd.google.colaboratory.intrinsic+json": {
              "type": "string"
            },
            "text/plain": [
              "'0178a28e1e3d434d3ff8fcad9816ad0990499915170f7d3225b337f3bc2ecda3'"
            ]
          },
          "metadata": {},
          "execution_count": 15
        }
      ]
    },
    {
      "cell_type": "markdown",
      "metadata": {
        "id": "dOT1B7PkT5hR"
      },
      "source": [
        "- The successful hash (one that meets our arbitrary condition) is called the \"Proof of Work\"\n",
        "  - It proves that we *did work* to find an acceptable nonce\n",
        "- Now that we have found a working nonce, we can start a new block of transactions.\n",
        "- The new block will start with the hash of the old block"
      ]
    },
    {
      "cell_type": "code",
      "metadata": {
        "colab": {
          "base_uri": "https://localhost:8080/",
          "height": 155
        },
        "id": "UTMBdvr8RN0a",
        "outputId": "c36c0324-bd3c-4c88-8c3a-3dd18bc92873"
      },
      "source": [
        "my_transactions_2 = \"\"\"\n",
        "Old Hash: 0178a28e1e3d434d3ff8fcad9816ad0990499915170f7d3225b337f3bc2ecda3\n",
        "Billy -> Cathy, $2.00\n",
        "Abby -> Dave, $5.00\n",
        "Fred -> Abby, $3.00\n",
        "nonce = 7834091\n",
        "\"\"\"\n",
        "\n",
        "print(my_transactions_2)\n",
        "hashlib.sha256(my_transactions_2.encode()).hexdigest()"
      ],
      "execution_count": null,
      "outputs": [
        {
          "output_type": "stream",
          "name": "stdout",
          "text": [
            "\n",
            "Old Hash: 0178a28e1e3d434d3ff8fcad9816ad0990499915170f7d3225b337f3bc2ecda3\n",
            "Billy -> Cathy, $2.00\n",
            "Abby -> Dave, $5.00\n",
            "Fred -> Abby, $3.00\n",
            "nonce = 7834091\n",
            "\n"
          ]
        },
        {
          "output_type": "execute_result",
          "data": {
            "application/vnd.google.colaboratory.intrinsic+json": {
              "type": "string"
            },
            "text/plain": [
              "'61e4f9493d9d481cf9a1e32511195c620d97d90d3e67e97fb9c84a2e0d281796'"
            ]
          },
          "metadata": {},
          "execution_count": 16
        }
      ]
    },
    {
      "cell_type": "markdown",
      "metadata": {
        "id": "v49hB49mUFsN"
      },
      "source": [
        "We will need to find a new nonce...."
      ]
    },
    {
      "cell_type": "code",
      "metadata": {
        "colab": {
          "base_uri": "https://localhost:8080/",
          "height": 155
        },
        "id": "rBK7BXP8T3yt",
        "outputId": "35b29929-a17d-46c4-bf2d-118a7650d97c"
      },
      "source": [
        "my_transactions_2 = \"\"\"\n",
        "Old Hash: 0178a28e1e3d434d3ff8fcad9816ad0990499915170f7d3225b337f3bc2ecda3\n",
        "Billy -> Cathy, $2.00\n",
        "Abby -> Dave, $5.00\n",
        "Fred -> Abby, $3.00\n",
        "nonce = 7834093\n",
        "\"\"\"\n",
        "\n",
        "print(my_transactions_2)\n",
        "hashlib.sha256(my_transactions_2.encode()).hexdigest()"
      ],
      "execution_count": null,
      "outputs": [
        {
          "output_type": "stream",
          "name": "stdout",
          "text": [
            "\n",
            "Old Hash: 0178a28e1e3d434d3ff8fcad9816ad0990499915170f7d3225b337f3bc2ecda3\n",
            "Billy -> Cathy, $2.00\n",
            "Abby -> Dave, $5.00\n",
            "Fred -> Abby, $3.00\n",
            "nonce = 7834093\n",
            "\n"
          ]
        },
        {
          "output_type": "execute_result",
          "data": {
            "application/vnd.google.colaboratory.intrinsic+json": {
              "type": "string"
            },
            "text/plain": [
              "'0fda1d509930f36e8d8cf27d264d05f625d3f5d2e971f7d676e478ea9f889fa4'"
            ]
          },
          "metadata": {},
          "execution_count": 17
        }
      ]
    },
    {
      "cell_type": "markdown",
      "metadata": {
        "id": "9LyCyQZdUQ7N"
      },
      "source": [
        "## Recap\n",
        "\n",
        "- Blocks are groups of transactions\n",
        "- These transactions are protected from fraud by also publishing a hash of the transactions\n",
        "- This hash is protected from fraud by requiring computers to find a nonce that makes the hash \"special\"\n",
        "  - Process called Proof of Work\n",
        "  - Computers are rewarded for doing this work by being given money (only if they find an acceptable nonce)\n",
        "  "
      ]
    },
    {
      "cell_type": "markdown",
      "metadata": {
        "id": "7dAMEwSaVpYM"
      },
      "source": [
        "---"
      ]
    },
    {
      "cell_type": "markdown",
      "metadata": {
        "id": "fSwxrWkwVqcA"
      },
      "source": [
        "## Still not enough\n",
        "\n",
        "- All the above will protect the transactions\n",
        "- Transactional records can be traced back and publicly explored\n",
        "- However, this system could still be used fraudulently: IMPERSONATION\n",
        "\n",
        "How can such a system verify that you are who you say you are, and that you are the same as the one attached to that named account.\n",
        "\n",
        "- Private/Public Key Encryption is used\n",
        "  - Everyone in the system generates a private and public key\n",
        "  - The public key can be used by anyone to encrypt random information\n",
        "  - The only way to decrypt that information is to use the private key\n",
        "  - Only the person with the true identity will have access to the private key\n",
        "\n",
        "---\n",
        "\n",
        "## Bitcoin\n",
        "\n",
        "- Now that we have covered all the above, we can explore a current [bitcoin block](https://www.blockchain.com/btc/blocks)."
      ]
    },
    {
      "cell_type": "code",
      "metadata": {
        "id": "ZgQ8oqxWULbE"
      },
      "source": [
        ""
      ],
      "execution_count": null,
      "outputs": []
    }
  ]
}