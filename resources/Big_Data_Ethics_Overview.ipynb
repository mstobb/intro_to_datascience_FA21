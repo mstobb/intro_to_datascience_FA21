{
  "nbformat": 4,
  "nbformat_minor": 0,
  "metadata": {
    "colab": {
      "name": "Big_Data_Ethics_Overview.ipynb",
      "provenance": [],
      "collapsed_sections": []
    },
    "kernelspec": {
      "name": "python3",
      "display_name": "Python 3"
    },
    "language_info": {
      "name": "python"
    }
  },
  "cells": [
    {
      "cell_type": "markdown",
      "metadata": {
        "id": "65IorcV78Wb0"
      },
      "source": [
        "# Ethics of Big Data\n",
        "\n",
        "Some starting defintions:\n",
        "\n",
        "> **big data**: a field that treats ways to analyze, systematically extract information from, or otherwise deal with data sets that are too large or complex to be dealt with by traditional data-processing application software.  --Wikipedia\n",
        "\n",
        "> **ethics**: the discipline dealing with what is good and bad and with moral duty and obligation  --Merriam-Webster\n",
        "\n",
        "> **moral**: considered right and good by most people, agreeing with a standard of right behavior  --Merriam-Webster\n"
      ]
    },
    {
      "cell_type": "markdown",
      "metadata": {
        "id": "rCDBjUva-GcM"
      },
      "source": [
        "---"
      ]
    },
    {
      "cell_type": "markdown",
      "metadata": {
        "id": "TVVmh7viCwzw"
      },
      "source": [
        "### Ethics Matter\n",
        "\n",
        "We all need to think about the ethical implications of big data because it \n",
        "1. Affects nearly everyone\n",
        "2. Is inherently dangerous\n",
        "3. others?"
      ]
    },
    {
      "cell_type": "markdown",
      "metadata": {
        "id": "aKzFXQGWDPZN"
      },
      "source": [
        "---"
      ]
    },
    {
      "cell_type": "markdown",
      "metadata": {
        "id": "zJFsSR-Y-HuD"
      },
      "source": [
        "### 1) Big Data Affects Us All\n",
        "\n",
        "- Participation with modern day general society almost requires the use of big data\n",
        "  - Financial Industry\n",
        "    - Credit scores\n",
        "    - Bank accounts\n",
        "    - Obtaining loans\n",
        "  - Education\n",
        "    - Compulsory primary education\n",
        "    - Post-primary school\n",
        "  - Government\n",
        "    - Taxes\n",
        "    - Certifications\n",
        "    - Licenses\n",
        "  - Technology\n",
        "    - Smart phones\n",
        "    - Cloud based email\n",
        "    - Virtual assistants\n",
        "      - De-Googling your life\n",
        "\n"
      ]
    },
    {
      "cell_type": "markdown",
      "metadata": {
        "id": "u7iEpIk4BWsT"
      },
      "source": [
        "---"
      ]
    },
    {
      "cell_type": "markdown",
      "metadata": {
        "id": "Hjo2fkDBBXor"
      },
      "source": [
        "\n",
        "\n",
        "### 2) Big Data is Dangerous\n",
        "\n",
        "When something is done at a large scale, the action enherently becomes more dangerous\n",
        "  - Copying numbers from a baseball stat website for your personal use\n",
        "    - VS. Copying the *entire* website = copyright infringement\n",
        "  - Describing your model results in a positive light\n",
        "    - WHEN that model determines who lives and who dies, mistakes cost lives\n",
        "  - Losing your password for an email account\n",
        "    - VS. Losing all the passwords for an email service"
      ]
    },
    {
      "cell_type": "markdown",
      "metadata": {
        "id": "-mW3HrzlCv11"
      },
      "source": [
        "---"
      ]
    },
    {
      "cell_type": "markdown",
      "metadata": {
        "id": "gI1mCfDzD2bA"
      },
      "source": [
        "## Some of the Ethical Dimensions of Big Data\n",
        "\n",
        "### 1) Integrity of the Data Scientist\n",
        "\n",
        "- Recognize that the data scientist is a human being\n",
        "  - Desire to be significant\n",
        "  - Desire to be correct\n",
        "  - Avoidance of conflict\n",
        "\n",
        "- Huge temptation to overstate the importance of our results\n",
        "  - Show our model fits, but with no baseline to compare\n",
        "  - Only show the data points where our model fits well\n",
        "  - Use a visualization trick to demphasize anything wrong\n",
        "\n",
        "- \"All models are wrong, but some are useful\" -- Goeorge E.P. Box\n",
        "  - Every model has limitations and assumptions\n",
        "  - Duty of the data scientist to know them \n",
        "  - Duty of the data scientist to communicate them to others\n",
        "\n",
        "- Conflicts of interest can bias results\n",
        "  - Employees of a company want results to favor the company\n"
      ]
    },
    {
      "cell_type": "markdown",
      "metadata": {
        "id": "nm09y_1PGGdT"
      },
      "source": [
        "---"
      ]
    },
    {
      "cell_type": "markdown",
      "metadata": {
        "id": "1aAgBl4JGIeY"
      },
      "source": [
        "### 2) Data Ownership\n",
        "\n",
        "- **Big question**: Who owns YOUR data?\n",
        "  - You do, because you are the source\n",
        "  - The company collecting it, because they made the software that recorded it\n",
        "  - The computer storing it, because it's all just 0's and 1's \n",
        "  - Society, because only a thriving, interconnected society could allow for such data to be recorded\n",
        "\n",
        "- Some other good questions:\n",
        "  - Do you have the right to see what data has been collected from you?\n",
        "  - Do you have the right to *change/edit* any of the data?\n",
        "  - Can you delete the data that is collected?\n",
        "  - Can you remove data about you that someone else posted?"
      ]
    },
    {
      "cell_type": "markdown",
      "metadata": {
        "id": "HzHxSTs_H108"
      },
      "source": [
        "---"
      ]
    },
    {
      "cell_type": "markdown",
      "metadata": {
        "id": "4nEGBT-1H2ol"
      },
      "source": [
        "### 3) Negative Feedback Loops\n",
        "\n",
        "- Using models to make firm decisions can cause unfixable feedback loops\n",
        "  - Imagine you have a model that determines who gets a home loan\n",
        "  - The model is based on credit score\n",
        "  - Getting a home loan would raise their credit score (after some time)\n",
        "- Can be illegal if these models control access to employment, healthcare, education, or housing\n"
      ]
    },
    {
      "cell_type": "markdown",
      "metadata": {
        "id": "74-f2PUlJ7gb"
      },
      "source": [
        "---"
      ]
    },
    {
      "cell_type": "markdown",
      "metadata": {
        "id": "_HJD9Y-zKFzv"
      },
      "source": [
        "### 4) Model Driven Bias\n",
        "\n",
        "- Advertisement based services seek to maximize engagement\n",
        "- Content is incentivized to be something we want to see\n",
        "  - The \"truth\" may not be\n",
        "- Search engines may skew results\n",
        "- Online communities can become an echo chamber, leading to an increase in societal polarization"
      ]
    },
    {
      "cell_type": "markdown",
      "metadata": {
        "id": "m9DnV5JoKzuk"
      },
      "source": [
        "---"
      ]
    },
    {
      "cell_type": "markdown",
      "metadata": {
        "id": "PF_FdRo8K0xC"
      },
      "source": [
        "### 5) Security of Big Data\n",
        "\n",
        "- Big data presents a large, attractive target for hackers\n",
        "- Whether we use the services or not, other people do\n",
        "- Lots of personal identifying information gets stored:\n",
        "  - Name\n",
        "  - Address\n",
        "  - Phone number\n",
        "  - Birthdate\n",
        "- Data scientists are obligated to follow the data storage best practices"
      ]
    },
    {
      "cell_type": "markdown",
      "metadata": {
        "id": "piJvGGUeK6mz"
      },
      "source": [
        "---"
      ]
    },
    {
      "cell_type": "markdown",
      "metadata": {
        "id": "wxJaLCT5K8QL"
      },
      "source": [
        "### 6) Privacy in Aggregated Data\n",
        "\n",
        "- Aggregated data is information combined from multiple sources\n",
        "- If this data is released, all identifying information must be removed:\n",
        "  - Names\n",
        "  - Social Security Numbers\n",
        "  - Addresses\n",
        "- This data can sometimes **still** be used to identified individuals\n",
        "  - GPS information\n",
        "  - Minority groups"
      ]
    }
  ]
}